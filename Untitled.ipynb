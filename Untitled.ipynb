{
 "cells": [
  {
   "cell_type": "code",
   "execution_count": 27,
   "metadata": {
    "collapsed": false
   },
   "outputs": [
    {
     "name": "stdout",
     "output_type": "stream",
     "text": [
      "Populating the interactive namespace from numpy and matplotlib\n"
     ]
    },
    {
     "name": "stderr",
     "output_type": "stream",
     "text": [
      "WARNING: pylab import has clobbered these variables: ['f']\n",
      "`%matplotlib` prevents importing * from pylab and numpy\n"
     ]
    }
   ],
   "source": [
    "import pandas as pd\n",
    "import pylab as pl\n",
    "import numpy as np\n",
    "import matplotlib.pyplot as plt\n",
    "import os\n",
    "import glob\n",
    "import re\n",
    "\n",
    "%pylab inline"
   ]
  },
  {
   "cell_type": "code",
   "execution_count": 28,
   "metadata": {
    "collapsed": true
   },
   "outputs": [],
   "source": [
    "root = r\"/Users/christopherallison/Documents/Coding/data/\""
   ]
  },
  {
   "cell_type": "code",
   "execution_count": 43,
   "metadata": {
    "collapsed": false
   },
   "outputs": [
    {
     "data": {
      "text/plain": [
       "UPDATED                 object\n",
       "ENTRY_DATE              object\n",
       "EVENT_LCL_DATE          object\n",
       "EVENT_LCL_TIME          object\n",
       "LOC_CITY_NAME           object\n",
       "LOC_STATE_NAME          object\n",
       "LOC_CNTRY_NAME          object\n",
       "RMK_TEXT                object\n",
       "EVENT_TYPE_DESC         object\n",
       "FSDO_DESC               object\n",
       "REGIST_NBR              object\n",
       "FLT_NBR                 object\n",
       "ACFT_OPRTR              object\n",
       "ACFT_MAKE_NAME          object\n",
       "ACFT_MODEL_NAME         object\n",
       "ACFT_MISSING_FLAG      float64\n",
       "ACFT_DMG_DESC           object\n",
       "FLT_ACTIVITY            object\n",
       "FLT_PHASE               object\n",
       "FAR_PART               float64\n",
       "MAX_INJ_LVL             object\n",
       "FATAL_FLAG              object\n",
       "FLT_CRW_INJ_NONE       float64\n",
       "FLT_CRW_INJ_MINOR      float64\n",
       "FLT_CRW_INJ_SERIOUS    float64\n",
       "FLT_CRW_INJ_FATAL      float64\n",
       "FLT_CRW_INJ_UNK        float64\n",
       "CBN_CRW_INJ_NONE       float64\n",
       "CBN_CRW_INJ_MINOR      float64\n",
       "CBN_CRW_INJ_SERIOUS    float64\n",
       "CBN_CRW_INJ_FATAL      float64\n",
       "CBN_CRW_INJ_UNK        float64\n",
       "PAX_INJ_NONE           float64\n",
       "PAX_INJ_MINOR          float64\n",
       "PAX_INJ_SERIOUS        float64\n",
       "PAX_INJ_FATAL          float64\n",
       "PAX_INJ_UNK            float64\n",
       "GRND_INJ_NONE          float64\n",
       "GRND_INJ_MINOR         float64\n",
       "GRND_INJ_SERIOUS       float64\n",
       "GRND_INJ_FATAL         float64\n",
       "GRND_INJ_UNK           float64\n",
       "dtype: object"
      ]
     },
     "execution_count": 43,
     "metadata": {},
     "output_type": "execute_result"
    }
   ],
   "source": [
    "df = pd.read_csv(root+\"faa_ai_prelim.csv\")\n",
    "df.dtypes"
   ]
  },
  {
   "cell_type": "code",
   "execution_count": 44,
   "metadata": {
    "collapsed": false
   },
   "outputs": [],
   "source": [
    "fatalities = pd.crosstab(df.FLT_PHASE, df.FATAL_FLAG)\n"
   ]
  },
  {
   "cell_type": "code",
   "execution_count": 45,
   "metadata": {
    "collapsed": false
   },
   "outputs": [
    {
     "data": {
      "text/html": [
       "<div style=\"max-height:1000px;max-width:1500px;overflow:auto;\">\n",
       "<table border=\"1\" class=\"dataframe\">\n",
       "  <thead>\n",
       "    <tr style=\"text-align: right;\">\n",
       "      <th>FATAL_FLAG</th>\n",
       "      <th>Yes</th>\n",
       "    </tr>\n",
       "    <tr>\n",
       "      <th>FLT_PHASE</th>\n",
       "      <th></th>\n",
       "    </tr>\n",
       "  </thead>\n",
       "  <tbody>\n",
       "    <tr>\n",
       "      <th>LANDING (LDG)</th>\n",
       "      <td> 1</td>\n",
       "    </tr>\n",
       "    <tr>\n",
       "      <th>STANDING (STD)</th>\n",
       "      <td> 1</td>\n",
       "    </tr>\n",
       "    <tr>\n",
       "      <th>TAKEOFF (TOF)</th>\n",
       "      <td> 2</td>\n",
       "    </tr>\n",
       "    <tr>\n",
       "      <th>UNKNOWN (UNK)</th>\n",
       "      <td> 5</td>\n",
       "    </tr>\n",
       "  </tbody>\n",
       "</table>\n",
       "</div>"
      ],
      "text/plain": [
       "FATAL_FLAG      Yes\n",
       "FLT_PHASE          \n",
       "LANDING (LDG)     1\n",
       "STANDING (STD)    1\n",
       "TAKEOFF (TOF)     2\n",
       "UNKNOWN (UNK)     5"
      ]
     },
     "execution_count": 45,
     "metadata": {},
     "output_type": "execute_result"
    }
   ],
   "source": [
    "fatalities"
   ]
  },
  {
   "cell_type": "code",
   "execution_count": null,
   "metadata": {
    "collapsed": true
   },
   "outputs": [],
   "source": []
  }
 ],
 "metadata": {
  "kernelspec": {
   "display_name": "Python 3",
   "language": "python",
   "name": "python3"
  },
  "language_info": {
   "codemirror_mode": {
    "name": "ipython",
    "version": 3
   },
   "file_extension": ".py",
   "mimetype": "text/x-python",
   "name": "python",
   "nbconvert_exporter": "python",
   "pygments_lexer": "ipython3",
   "version": "3.4.3"
  }
 },
 "nbformat": 4,
 "nbformat_minor": 0
}
