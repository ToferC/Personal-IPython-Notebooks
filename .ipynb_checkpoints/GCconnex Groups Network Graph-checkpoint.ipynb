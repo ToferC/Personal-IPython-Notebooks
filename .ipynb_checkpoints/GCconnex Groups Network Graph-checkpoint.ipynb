{
 "cells": [
  {
   "cell_type": "code",
   "execution_count": 1,
   "metadata": {
    "collapsed": false
   },
   "outputs": [],
   "source": [
    "import pandas as pd\n",
    "import pylab as pl\n",
    "import numpy as np\n",
    "import matplotlib.pyplot as plt\n",
    "import os\n",
    "import glob\n",
    "import re\n",
    "import networkx as nx\n",
    "import csv\n",
    "import json\n",
    "\n",
    "import plotly.plotly as py\n",
    "import plotly.tools as tls\n",
    "from plotly.graph_objs import *\n",
    "\n",
    "mpl_fig = plt.figure()"
   ]
  },
  {
   "cell_type": "code",
   "execution_count": 2,
   "metadata": {
    "collapsed": true
   },
   "outputs": [],
   "source": [
    "data_path = r\"/Users/christopherallison/Documents/Coding/Data/\""
   ]
  },
  {
   "cell_type": "code",
   "execution_count": 3,
   "metadata": {
    "collapsed": false
   },
   "outputs": [],
   "source": [
    "nodes = []\n",
    "edges = []\n",
    "details = {}"
   ]
  },
  {
   "cell_type": "code",
   "execution_count": 4,
   "metadata": {
    "collapsed": false
   },
   "outputs": [],
   "source": [
    "# Read CSV of UID and Colleagues and create nodes & edges\n",
    "\n",
    "with open(data_path+\"clean_friend_list_2.csv\", \"r\") as f:\n",
    "    reader = csv.reader(f, delimiter=',', quotechar=' ')\n",
    "    next(reader) #skip first line\n",
    "    for row in reader:\n",
    "        nodes.append(row[0])\n",
    "        for col in row[1:]:\n",
    "            if col:\n",
    "                edges.append(col.split(' '))"
   ]
  },
  {
   "cell_type": "code",
   "execution_count": 5,
   "metadata": {
    "collapsed": false
   },
   "outputs": [
    {
     "data": {
      "text/plain": [
       "'\\nwith open(data_path+\"elgg_users_july_2015.csv\", \\'r\\') as f:\\n    reader = csv.reader(f, delimiter=\\',\\')\\n    for row in reader:\\n        details[row[0]] = {}\\n        details[row[0]][\\'name\\'] = row[1]\\n        details[row[0]][\\'department\\'] = row[2]'"
      ]
     },
     "execution_count": 5,
     "metadata": {},
     "output_type": "execute_result"
    }
   ],
   "source": [
    "# Read CSV of user names and departments and add those to nodes\n",
    "'''\n",
    "with open(data_path+\"elgg_users_july_2015.csv\", 'r') as f:\n",
    "    reader = csv.reader(f, delimiter=',')\n",
    "    for row in reader:\n",
    "        details[row[0]] = {}\n",
    "        details[row[0]]['name'] = row[1]\n",
    "        details[row[0]]['department'] = row[2]'''"
   ]
  },
  {
   "cell_type": "code",
   "execution_count": 6,
   "metadata": {
    "collapsed": false
   },
   "outputs": [],
   "source": [
    "# Read CSV of user names and departments and add those to nodes\n",
    "\n",
    "with open(data_path+\"gcconnex_users_activity_joined.csv\", 'r') as f:\n",
    "    reader = csv.reader(f, delimiter=',')\n",
    "    next(reader) #skip first line\n",
    "    for row in reader:\n",
    "        details[row[0]] = {}\n",
    "        if \"@\" in row[1]:\n",
    "            email_split = row[1].split(\"@\")\n",
    "            details[row[0]]['name'] = email_split[0]\n",
    "            details[row[0]]['department'] = email_split[1]\n",
    "        else:\n",
    "            details[row[0]]['name'] = \"unknown\"\n",
    "            details[row[0]]['department'] = \"unknown\"\n",
    "        details[row[0]]['active'] = row[3] # last active date\n",
    "        details[row[0]]['end'] = \"20-07-2015\"\n",
    "        details[row[0]]['start'] = row[4] #account created\n",
    "        #details[row[0]]['updated'] = row[5]\n",
    "            "
   ]
  },
  {
   "cell_type": "code",
   "execution_count": 7,
   "metadata": {
    "collapsed": false
   },
   "outputs": [],
   "source": [
    "G=nx.DiGraph()"
   ]
  },
  {
   "cell_type": "code",
   "execution_count": 8,
   "metadata": {
    "collapsed": false
   },
   "outputs": [],
   "source": [
    "for k,v in details.items():\n",
    "    G.add_node(k, label=v['name'], department=v['department'], activity=v['active'], start=v['start'], end=v['end'])\n",
    "    \n",
    "for colleague_link in edges:\n",
    "    G.add_edge(colleague_link[0], colleague_link[1])"
   ]
  },
  {
   "cell_type": "code",
   "execution_count": null,
   "metadata": {
    "collapsed": false
   },
   "outputs": [],
   "source": []
  },
  {
   "cell_type": "code",
   "execution_count": 9,
   "metadata": {
    "collapsed": false
   },
   "outputs": [],
   "source": [
    "# Normally, you could graph this directly, but the graph is too big.  Don't run this.\n",
    "\n",
    "#pos=nx.spring_layout(G)"
   ]
  },
  {
   "cell_type": "code",
   "execution_count": 10,
   "metadata": {
    "collapsed": false
   },
   "outputs": [],
   "source": [
    "# Or this\n",
    "\n",
    "#nx.draw_networkx_nodes(G, pos)\n",
    "#nx.draw_networkx_edges(G, pos)"
   ]
  },
  {
   "cell_type": "code",
   "execution_count": 11,
   "metadata": {
    "collapsed": true
   },
   "outputs": [],
   "source": [
    "# Or this\n",
    "\n",
    "#plt.show()"
   ]
  },
  {
   "cell_type": "code",
   "execution_count": 12,
   "metadata": {
    "collapsed": false
   },
   "outputs": [],
   "source": [
    "# Export to JSON format\n",
    "from networkx.readwrite import json_graph\n",
    "\n",
    "d = json_graph.node_link_data(G)\n",
    "json.dump(d, open('/Users/christopherallison/Documents/Coding/Python/Network Graph/force/GC_network_activity.json', 'w'))"
   ]
  },
  {
   "cell_type": "code",
   "execution_count": 13,
   "metadata": {
    "collapsed": true
   },
   "outputs": [],
   "source": [
    "# Write to Graphml format\n",
    "nx.write_graphml(G,\"GCconnex_users_activity_dynamic.graphml\")"
   ]
  },
  {
   "cell_type": "markdown",
   "metadata": {
    "collapsed": true
   },
   "source": [
    "### Now open up Gephi and play with your data!"
   ]
  },
  {
   "cell_type": "code",
   "execution_count": null,
   "metadata": {
    "collapsed": true
   },
   "outputs": [],
   "source": []
  }
 ],
 "metadata": {
  "kernelspec": {
   "display_name": "Python 3",
   "language": "python",
   "name": "python3"
  },
  "language_info": {
   "codemirror_mode": {
    "name": "ipython",
    "version": 3
   },
   "file_extension": ".py",
   "mimetype": "text/x-python",
   "name": "python",
   "nbconvert_exporter": "python",
   "pygments_lexer": "ipython3",
   "version": "3.4.3"
  }
 },
 "nbformat": 4,
 "nbformat_minor": 0
}
